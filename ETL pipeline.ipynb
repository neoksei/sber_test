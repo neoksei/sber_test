{
 "cells": [
  {
   "cell_type": "code",
   "execution_count": 2,
   "id": "719b1e33",
   "metadata": {
    "ExecuteTime": {
     "end_time": "2022-09-02T01:09:48.602088Z",
     "start_time": "2022-09-02T01:09:48.247813Z"
    }
   },
   "outputs": [],
   "source": [
    "import findspark\n",
    "import pyspark\n",
    "import pyspark.sql\n",
    "import pyspark.sql.functions as F\n",
    "import pyspark.ml as ml\n",
    "from catboost import CatBoostClassifier\n",
    "\n",
    "from itertools import chain\n",
    "\n",
    "findspark.init('/opt/spark')"
   ]
  },
  {
   "cell_type": "code",
   "execution_count": 3,
   "id": "9468c155",
   "metadata": {
    "ExecuteTime": {
     "end_time": "2022-09-02T01:10:22.432029Z",
     "start_time": "2022-09-02T01:10:18.855824Z"
    }
   },
   "outputs": [
    {
     "name": "stdout",
     "output_type": "stream",
     "text": [
      "22/09/02 04:10:20 WARN NativeCodeLoader: Unable to load native-hadoop library for your platform... using builtin-java classes where applicable\n"
     ]
    },
    {
     "name": "stderr",
     "output_type": "stream",
     "text": [
      "Setting default log level to \"WARN\".\n",
      "To adjust logging level use sc.setLogLevel(newLevel). For SparkR, use setLogLevel(newLevel).\n"
     ]
    },
    {
     "name": "stdout",
     "output_type": "stream",
     "text": [
      "22/09/02 04:10:21 WARN Utils: Service 'SparkUI' could not bind on port 4040. Attempting port 4041.\n",
      "22/09/02 04:10:21 WARN Utils: Service 'SparkUI' could not bind on port 4041. Attempting port 4042.\n"
     ]
    },
    {
     "data": {
      "text/html": [
       "\n",
       "            <div>\n",
       "                <p><b>SparkSession - in-memory</b></p>\n",
       "                \n",
       "        <div>\n",
       "            <p><b>SparkContext</b></p>\n",
       "\n",
       "            <p><a href=\"http://iusearch:4042\">Spark UI</a></p>\n",
       "\n",
       "            <dl>\n",
       "              <dt>Version</dt>\n",
       "                <dd><code>v3.3.0</code></dd>\n",
       "              <dt>Master</dt>\n",
       "                <dd><code>local[8]</code></dd>\n",
       "              <dt>AppName</dt>\n",
       "                <dd><code>sber_inference</code></dd>\n",
       "            </dl>\n",
       "        </div>\n",
       "        \n",
       "            </div>\n",
       "        "
      ],
      "text/plain": [
       "<pyspark.sql.session.SparkSession at 0x7fd221c28f40>"
      ]
     },
     "execution_count": 3,
     "metadata": {},
     "output_type": "execute_result"
    }
   ],
   "source": [
    "spark = (\n",
    "    pyspark\n",
    "    .sql\n",
    "    .SparkSession\n",
    "    .builder\n",
    "    .config('spark.jars', '/usr/share/java/mysql-connector-java.jar')\n",
    "    .master('local[8]')\n",
    "    .appName('sber_inference')\n",
    "    .getOrCreate()\n",
    ")\n",
    "\n",
    "spark"
   ]
  },
  {
   "cell_type": "code",
   "execution_count": 8,
   "id": "72006ac6",
   "metadata": {
    "ExecuteTime": {
     "end_time": "2022-09-02T01:11:40.918891Z",
     "start_time": "2022-09-02T01:11:40.789838Z"
    }
   },
   "outputs": [
    {
     "name": "stderr",
     "output_type": "stream",
     "text": [
      "/home/neoksei/.miniconda/envs/ml_mipt/lib/python3.9/site-packages/pyspark/sql/pandas/group_ops.py:98: UserWarning: It is preferred to use 'applyInPandas' over this API. This API will be deprecated in the future releases. See SPARK-28264 for more details.\n",
      "  warnings.warn(\n"
     ]
    }
   ],
   "source": [
    "df = (\n",
    "    spark\n",
    "    .read\n",
    "    .format('jdbc')\n",
    "    .option('url', 'jdbc:mysql://localhost:3306/sber')\n",
    "    .option('driver', 'com.mysql.cj.jdbc.Driver')\n",
    "    .option('dbtable', 'neo')\n",
    "    .option('user', 'sber')\n",
    "    .option('password', 'sber65537')\n",
    "    .load()\n",
    ")\n",
    "\n",
    "df = df.drop('name', 'orbiting_body', 'sentry_object')\n",
    "\n",
    "feature_columns = df.columns\n",
    "feature_columns.remove('hazardous')\n",
    "feature_columns.remove('id')\n",
    "\n",
    "model = CatBoostClassifier().load_model('catboost_clf')\n",
    "\n",
    "@F.pandas_udf(returnType='id bigint, neo_prob float', \n",
    "              functionType=F.PandasUDFType.GROUPED_MAP)\n",
    "def predict(df):\n",
    "  df['neo_prob'] = model.predict_proba(df.loc[:, feature_columns])[:, 1]  \n",
    "  return df.loc[:, ['id', 'neo_prob']]\n",
    "\n",
    "prediction = (\n",
    "  df\n",
    "  .groupBy(F.spark_partition_id())\n",
    "  .apply(predict)\n",
    ")"
   ]
  },
  {
   "cell_type": "code",
   "execution_count": 10,
   "id": "9bd941c3",
   "metadata": {
    "ExecuteTime": {
     "end_time": "2022-09-02T01:15:52.107181Z",
     "start_time": "2022-09-02T01:15:45.228633Z"
    }
   },
   "outputs": [
    {
     "name": "stderr",
     "output_type": "stream",
     "text": [
      "                                                                                \r"
     ]
    }
   ],
   "source": [
    "(\n",
    "    prediction\n",
    "    .write\n",
    "    .mode('overwrite')\n",
    "    .format('jdbc')\n",
    "    .option('url', 'jdbc:mysql://localhost:3306/sber')\n",
    "    .option('driver', 'com.mysql.cj.jdbc.Driver')\n",
    "    .option('dbtable', 'neo_probs')\n",
    "    .option('user', 'sber')\n",
    "    .option('password', 'sber65537')\n",
    "    .save()\n",
    ")"
   ]
  }
 ],
 "metadata": {
  "hide_input": false,
  "kernelspec": {
   "display_name": "ml_mipt",
   "language": "python",
   "name": "ml_mipt"
  },
  "language_info": {
   "codemirror_mode": {
    "name": "ipython",
    "version": 3
   },
   "file_extension": ".py",
   "mimetype": "text/x-python",
   "name": "python",
   "nbconvert_exporter": "python",
   "pygments_lexer": "ipython3",
   "version": "3.9.12"
  },
  "varInspector": {
   "cols": {
    "lenName": 16,
    "lenType": 16,
    "lenVar": 40
   },
   "kernels_config": {
    "python": {
     "delete_cmd_postfix": "",
     "delete_cmd_prefix": "del ",
     "library": "var_list.py",
     "varRefreshCmd": "print(var_dic_list())"
    },
    "r": {
     "delete_cmd_postfix": ") ",
     "delete_cmd_prefix": "rm(",
     "library": "var_list.r",
     "varRefreshCmd": "cat(var_dic_list()) "
    }
   },
   "types_to_exclude": [
    "module",
    "function",
    "builtin_function_or_method",
    "instance",
    "_Feature"
   ],
   "window_display": false
  }
 },
 "nbformat": 4,
 "nbformat_minor": 5
}
