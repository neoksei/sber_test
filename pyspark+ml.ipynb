{
 "cells": [
  {
   "cell_type": "code",
   "execution_count": 1,
   "id": "06d22de6",
   "metadata": {
    "ExecuteTime": {
     "end_time": "2022-09-02T00:00:42.634421Z",
     "start_time": "2022-09-02T00:00:42.460453Z"
    }
   },
   "outputs": [],
   "source": [
    "import findspark\n",
    "import pyspark\n",
    "import pyspark.sql\n",
    "import pyspark.sql.functions as F\n",
    "import pyspark.ml as ml\n",
    "\n",
    "from itertools import chain\n",
    "\n",
    "findspark.init('/opt/spark')"
   ]
  },
  {
   "cell_type": "code",
   "execution_count": 2,
   "id": "1870b60c",
   "metadata": {
    "ExecuteTime": {
     "end_time": "2022-09-02T00:00:47.669583Z",
     "start_time": "2022-09-02T00:00:44.177793Z"
    }
   },
   "outputs": [
    {
     "name": "stdout",
     "output_type": "stream",
     "text": [
      "22/09/02 03:00:45 WARN NativeCodeLoader: Unable to load native-hadoop library for your platform... using builtin-java classes where applicable\n"
     ]
    },
    {
     "name": "stderr",
     "output_type": "stream",
     "text": [
      "Setting default log level to \"WARN\".\n",
      "To adjust logging level use sc.setLogLevel(newLevel). For SparkR, use setLogLevel(newLevel).\n"
     ]
    },
    {
     "name": "stdout",
     "output_type": "stream",
     "text": [
      "22/09/02 03:00:46 WARN Utils: Service 'SparkUI' could not bind on port 4040. Attempting port 4041.\n"
     ]
    },
    {
     "data": {
      "text/html": [
       "\n",
       "            <div>\n",
       "                <p><b>SparkSession - in-memory</b></p>\n",
       "                \n",
       "        <div>\n",
       "            <p><b>SparkContext</b></p>\n",
       "\n",
       "            <p><a href=\"http://iusearch:4041\">Spark UI</a></p>\n",
       "\n",
       "            <dl>\n",
       "              <dt>Version</dt>\n",
       "                <dd><code>v3.3.0</code></dd>\n",
       "              <dt>Master</dt>\n",
       "                <dd><code>local[8]</code></dd>\n",
       "              <dt>AppName</dt>\n",
       "                <dd><code>sber</code></dd>\n",
       "            </dl>\n",
       "        </div>\n",
       "        \n",
       "            </div>\n",
       "        "
      ],
      "text/plain": [
       "<pyspark.sql.session.SparkSession at 0x7fb94861d400>"
      ]
     },
     "execution_count": 2,
     "metadata": {},
     "output_type": "execute_result"
    }
   ],
   "source": [
    "spark = (\n",
    "    pyspark\n",
    "    .sql\n",
    "    .SparkSession\n",
    "    .builder\n",
    "    .config('spark.jars', '/usr/share/java/mysql-connector-java.jar')\n",
    "    .master('local[8]')\n",
    "    .appName('sber')\n",
    "    .getOrCreate()\n",
    ")\n",
    "\n",
    "spark"
   ]
  },
  {
   "cell_type": "code",
   "execution_count": 3,
   "id": "b93a88da",
   "metadata": {
    "ExecuteTime": {
     "end_time": "2022-09-02T00:01:10.663115Z",
     "start_time": "2022-09-02T00:01:09.021449Z"
    }
   },
   "outputs": [
    {
     "data": {
      "text/plain": [
       "[('id', 'bigint'),\n",
       " ('name', 'string'),\n",
       " ('est_diameter_min', 'double'),\n",
       " ('est_diameter_max', 'double'),\n",
       " ('relative_velocity', 'double'),\n",
       " ('miss_distance', 'double'),\n",
       " ('orbiting_body', 'string'),\n",
       " ('sentry_object', 'boolean'),\n",
       " ('absolute_magnitude', 'double'),\n",
       " ('hazardous', 'boolean')]"
      ]
     },
     "execution_count": 3,
     "metadata": {},
     "output_type": "execute_result"
    }
   ],
   "source": [
    "df = (\n",
    "    spark\n",
    "    .read\n",
    "    .format('jdbc')\n",
    "    .option('url', 'jdbc:mysql://localhost:3306/sber')\n",
    "    .option('driver', 'com.mysql.cj.jdbc.Driver')\n",
    "    .option('dbtable', 'neo')\n",
    "    .option('user', 'sber')\n",
    "    .option('password', 'sber65537')\n",
    "    .load()\n",
    ")\n",
    "\n",
    "df.dtypes"
   ]
  },
  {
   "cell_type": "markdown",
   "id": "dd2fe857",
   "metadata": {},
   "source": [
    "Избавляюсь от неинформативных признаков"
   ]
  },
  {
   "cell_type": "code",
   "execution_count": 4,
   "id": "ce179550",
   "metadata": {
    "ExecuteTime": {
     "end_time": "2022-09-02T00:01:11.877067Z",
     "start_time": "2022-09-02T00:01:11.829016Z"
    }
   },
   "outputs": [],
   "source": [
    "df = df.drop('name', 'orbiting_body', 'sentry_object')"
   ]
  },
  {
   "cell_type": "code",
   "execution_count": 5,
   "id": "fa7b8183",
   "metadata": {
    "ExecuteTime": {
     "end_time": "2022-09-02T00:01:12.463195Z",
     "start_time": "2022-09-02T00:01:12.457328Z"
    }
   },
   "outputs": [],
   "source": [
    "feature_columns = df.columns\n",
    "feature_columns.remove('hazardous')"
   ]
  },
  {
   "cell_type": "code",
   "execution_count": 6,
   "id": "a52cf612",
   "metadata": {
    "ExecuteTime": {
     "end_time": "2022-09-02T00:01:13.523442Z",
     "start_time": "2022-09-02T00:01:13.306346Z"
    }
   },
   "outputs": [],
   "source": [
    "vecAssembler = ml.feature.VectorAssembler(outputCol='features')\n",
    "vecAssembler.setInputCols(feature_columns)\n",
    "\n",
    "df = vecAssembler.transform(df)"
   ]
  },
  {
   "cell_type": "code",
   "execution_count": 7,
   "id": "1f553ba6",
   "metadata": {
    "ExecuteTime": {
     "end_time": "2022-09-02T00:01:14.529193Z",
     "start_time": "2022-09-02T00:01:14.495690Z"
    }
   },
   "outputs": [],
   "source": [
    "df = df.withColumn('hazardous', df.hazardous.cast('int'))"
   ]
  },
  {
   "cell_type": "code",
   "execution_count": 8,
   "id": "d8c3da20",
   "metadata": {
    "ExecuteTime": {
     "end_time": "2022-09-02T00:01:17.319612Z",
     "start_time": "2022-09-02T00:01:15.067259Z"
    }
   },
   "outputs": [],
   "source": [
    "total_count = df.count()\n",
    "class_weights = {x['hazardous']: x['count'] / total_count for x in df.groupBy('hazardous').count().collect()}"
   ]
  },
  {
   "cell_type": "code",
   "execution_count": 9,
   "id": "be60bead",
   "metadata": {
    "ExecuteTime": {
     "end_time": "2022-09-02T00:01:17.922894Z",
     "start_time": "2022-09-02T00:01:17.841164Z"
    }
   },
   "outputs": [],
   "source": [
    "mapping_expr = F.create_map([F.lit(x) for x in chain(*class_weights.items())])\n",
    "df = df.withColumn('weight', mapping_expr[F.col('hazardous')])"
   ]
  },
  {
   "cell_type": "code",
   "execution_count": 10,
   "id": "bf42d469",
   "metadata": {
    "ExecuteTime": {
     "end_time": "2022-09-02T00:01:18.396763Z",
     "start_time": "2022-09-02T00:01:18.338922Z"
    }
   },
   "outputs": [],
   "source": [
    "df = df.withColumn('val', F.when(F.rand() > 0.9, 1).otherwise(0))\n",
    "df = df.withColumn('val', df.val.astype('boolean'))"
   ]
  },
  {
   "cell_type": "code",
   "execution_count": 11,
   "id": "47848b29",
   "metadata": {
    "ExecuteTime": {
     "end_time": "2022-09-02T00:01:26.856196Z",
     "start_time": "2022-09-02T00:01:26.840650Z"
    }
   },
   "outputs": [],
   "source": [
    "df = df.repartition(8)"
   ]
  },
  {
   "cell_type": "code",
   "execution_count": 12,
   "id": "27d8b892",
   "metadata": {
    "ExecuteTime": {
     "end_time": "2022-09-02T00:06:29.499392Z",
     "start_time": "2022-09-02T00:01:28.439034Z"
    },
    "scrolled": true
   },
   "outputs": [
    {
     "name": "stderr",
     "output_type": "stream",
     "text": [
      "\r",
      "[Stage 6:>                                                          (0 + 1) / 1]\r"
     ]
    },
    {
     "name": "stdout",
     "output_type": "stream",
     "text": [
      "22/09/02 03:01:30 WARN BlockManager: Block rdd_25_0 already exists on this machine; not re-adding it\n",
      "22/09/02 03:01:30 WARN BlockManager: Block rdd_25_0 already exists on this machine; not re-adding it\n",
      "22/09/02 03:01:30 WARN BlockManager: Block rdd_25_0 already exists on this machine; not re-adding it\n",
      "22/09/02 03:01:30 WARN BlockManager: Block rdd_25_0 already exists on this machine; not re-adding it\n",
      "22/09/02 03:01:30 WARN BlockManager: Block rdd_25_0 already exists on this machine; not re-adding it\n",
      "22/09/02 03:01:30 WARN BlockManager: Block rdd_25_0 already exists on this machine; not re-adding it\n",
      "22/09/02 03:01:30 WARN BlockManager: Block rdd_25_0 already exists on this machine; not re-adding it\n"
     ]
    },
    {
     "name": "stderr",
     "output_type": "stream",
     "text": [
      "                                                                                \r"
     ]
    }
   ],
   "source": [
    "clf = ml.classification.GBTClassifier(\n",
    "    featuresCol='features',\n",
    "    labelCol='hazardous',\n",
    "    weightCol='weight',\n",
    "    validationIndicatorCol='val',\n",
    "    validationTol=0.01\n",
    ")\n",
    "\n",
    "paramGrid = (\n",
    "    ml\n",
    "    .tuning\n",
    "    .ParamGridBuilder()\n",
    "    .addGrid(clf.maxDepth, [2, 4, 8])\n",
    "    .addGrid(clf.maxIter, [512, 1024, 2048])\n",
    "    .addGrid(clf.stepSize, [0.01, 0.1, 0.5])\n",
    "    .build()\n",
    ")\n",
    "\n",
    "crossval = ml.tuning.CrossValidator(\n",
    "    estimator=clf,\n",
    "    estimatorParamMaps=paramGrid,\n",
    "    evaluator=ml.evaluation.BinaryClassificationEvaluator(labelCol='hazardous'),\n",
    "    numFolds=3,\n",
    "    parallelism=8\n",
    ")\n",
    "\n",
    "cv = crossval.fit(df)"
   ]
  },
  {
   "cell_type": "code",
   "execution_count": 13,
   "id": "03c8ffc5",
   "metadata": {
    "ExecuteTime": {
     "end_time": "2022-09-02T00:25:10.782413Z",
     "start_time": "2022-09-02T00:25:10.771506Z"
    }
   },
   "outputs": [],
   "source": [
    "df_test = df.where(df.val == True)"
   ]
  },
  {
   "cell_type": "code",
   "execution_count": 21,
   "id": "3bd31aed",
   "metadata": {
    "ExecuteTime": {
     "end_time": "2022-09-02T00:36:00.992778Z",
     "start_time": "2022-09-02T00:36:00.954117Z"
    }
   },
   "outputs": [],
   "source": [
    "df_test = cv.bestModel.transform(df_test)"
   ]
  },
  {
   "cell_type": "code",
   "execution_count": 27,
   "id": "d354012f",
   "metadata": {
    "ExecuteTime": {
     "end_time": "2022-09-02T00:40:31.366149Z",
     "start_time": "2022-09-02T00:40:30.603321Z"
    }
   },
   "outputs": [
    {
     "data": {
      "text/plain": [
       "0.9252390679310267"
      ]
     },
     "execution_count": 27,
     "metadata": {},
     "output_type": "execute_result"
    }
   ],
   "source": [
    "evaluator = ml.evaluation.BinaryClassificationEvaluator()\n",
    "evaluator.setLabelCol('hazardous')\n",
    "evaluator.setMetricName('areaUnderROC')\n",
    "evaluator.evaluate(df_test)"
   ]
  },
  {
   "cell_type": "markdown",
   "id": "1507a680",
   "metadata": {},
   "source": [
    "CatBoost победил"
   ]
  },
  {
   "cell_type": "markdown",
   "id": "9fd7567a",
   "metadata": {},
   "source": [
    "В заключении хочу сказать, что в идеале модель нужно выбирать, бустрапируя из тестовой выборки и строя доверительный интервал. В идеале тестовая выборка должна быть одной и той же для всех моделей. Метрика roc_auc считай что метрика по умолчанию. Но для бизнеса чаще актуальнее precision и recall. Так же early_stopping использует в данном случае тестовую выборку, что является небольшим даталиком. Нужно было создавать 3 датасета: Train, Val и Test и использовать Val для early_stopping. Но так как пример игрушечный, я решил пренебречь такими деталями"
   ]
  }
 ],
 "metadata": {
  "hide_input": false,
  "kernelspec": {
   "display_name": "ml_mipt",
   "language": "python",
   "name": "ml_mipt"
  },
  "language_info": {
   "codemirror_mode": {
    "name": "ipython",
    "version": 3
   },
   "file_extension": ".py",
   "mimetype": "text/x-python",
   "name": "python",
   "nbconvert_exporter": "python",
   "pygments_lexer": "ipython3",
   "version": "3.9.12"
  },
  "varInspector": {
   "cols": {
    "lenName": 16,
    "lenType": 16,
    "lenVar": 40
   },
   "kernels_config": {
    "python": {
     "delete_cmd_postfix": "",
     "delete_cmd_prefix": "del ",
     "library": "var_list.py",
     "varRefreshCmd": "print(var_dic_list())"
    },
    "r": {
     "delete_cmd_postfix": ") ",
     "delete_cmd_prefix": "rm(",
     "library": "var_list.r",
     "varRefreshCmd": "cat(var_dic_list()) "
    }
   },
   "types_to_exclude": [
    "module",
    "function",
    "builtin_function_or_method",
    "instance",
    "_Feature"
   ],
   "window_display": false
  }
 },
 "nbformat": 4,
 "nbformat_minor": 5
}
